{
 "cells": [
  {
   "cell_type": "code",
   "execution_count": 1,
   "metadata": {},
   "outputs": [],
   "source": [
    "import requests\n",
    "from fake_useragent import UserAgent\n",
    "from airbyte_cdk.sources import AbstractSource\n",
    "from airbyte_cdk.sources.streams.http.requests_native_auth import Oauth2Authenticator\n",
    "from urllib.parse import (\n",
    "    urljoin,\n",
    "    urlparse,\n",
    "    parse_qs\n",
    "    )\n",
    "\n",
    "import pendulum\n",
    "\n",
    "from source_alberta_re.auth import EmailAuthenticator\n",
    "from source_alberta_re.source import SourceAlbertaRe\n",
    "from source_alberta_re.streams import Properties, TestStreamConnection\n",
    "\n",
    "from typing import Mapping, Any"
   ]
  },
  {
   "cell_type": "code",
   "execution_count": 12,
   "metadata": {},
   "outputs": [],
   "source": [
    "config = {\n",
    "  \"email\": \"notvalidemail@gmail.com\",\n",
    "  \"status\": \"a\",\n",
    "  \"max_days_listed\": \"1\"\n",
    "}"
   ]
  },
  {
   "cell_type": "code",
   "execution_count": 25,
   "metadata": {},
   "outputs": [
    {
     "name": "stdout",
     "output_type": "stream",
     "text": [
      "{\"type\": \"LOG\", \"log\": {\"level\": \"INFO\", \"message\": \"Using email: notvalidemail@gmail.com\"}}\n"
     ]
    }
   ],
   "source": [
    "source_re = SourceAlbertaRe()\n",
    "streams = source_re.streams(config=config)\n",
    "stream = streams[0]\n",
    "\n"
   ]
  },
  {
   "cell_type": "code",
   "execution_count": 30,
   "metadata": {},
   "outputs": [
    {
     "data": {
      "text/plain": [
       "{}"
      ]
     },
     "execution_count": 30,
     "metadata": {},
     "output_type": "execute_result"
    }
   ],
   "source": [
    "stream.request_headers(stream_state=None)"
   ]
  },
  {
   "cell_type": "code",
   "execution_count": 26,
   "metadata": {},
   "outputs": [],
   "source": [
    "data = stream.read_records(sync_mode=None)"
   ]
  },
  {
   "cell_type": "code",
   "execution_count": 9,
   "metadata": {},
   "outputs": [],
   "source": [
    "TOKEN_URL = \"https://albertare.com/api/leads/register/start\"\n",
    "auth = EmailAuthenticator(\n",
    "    token_refresh_endpoint=TOKEN_URL,\n",
    "    email=config[\"email\"]\n",
    ")"
   ]
  },
  {
   "cell_type": "code",
   "execution_count": 33,
   "metadata": {},
   "outputs": [],
   "source": [
    "config = {\n",
    "  \"email\": \"notvalidemail\"\n",
    "}\n",
    "stream = Properties(config=config)\n",
    "stream.request_params(stream_state=None)\n",
    "\n",
    "latest_record = next(stream.read_records(sync_mode=None))"
   ]
  },
  {
   "cell_type": "code",
   "execution_count": 37,
   "metadata": {},
   "outputs": [],
   "source": [
    "cursor_field = [\"attributes\", \"updated_at\"]\n",
    "if isinstance(cursor_field, str):\n",
    "    pass\n",
    "elif isinstance(cursor_field, list):\n",
    "    for cursor_part in cursor_field:\n",
    "        latest_record = latest_record.get(cursor_part, {})\n",
    "    \n",
    "    cursor_field = cursor_field[-1]\n",
    "\n"
   ]
  },
  {
   "cell_type": "code",
   "execution_count": 38,
   "metadata": {},
   "outputs": [
    {
     "data": {
      "text/plain": [
       "'updated_at'"
      ]
     },
     "execution_count": 38,
     "metadata": {},
     "output_type": "execute_result"
    }
   ],
   "source": [
    "cursor_field"
   ]
  },
  {
   "cell_type": "code",
   "execution_count": 6,
   "metadata": {},
   "outputs": [],
   "source": [
    "TOKEN_URL = \"https://albertare.com/api/leads/register/start\"\n",
    "auth = EmailAuthenticator(\n",
    "    token_refresh_endpoint=TOKEN_URL,\n",
    "    email=\"thelordjesuschrist@gmail.com\"\n",
    ")"
   ]
  },
  {
   "cell_type": "code",
   "execution_count": 7,
   "metadata": {},
   "outputs": [],
   "source": [
    "url = \"http://albertare.com/api/properties\"\n",
    "headers = {\n",
    "            \"Accept\": \"application/json\",\n",
    "            \"User-Agent\": UserAgent(verify_ssl=False).random\n",
    "        }\n",
    "headers.update(auth.get_auth_header())\n",
    "\n",
    "params = {\"limit\": \"1000\"}\n",
    "\n",
    "resp = requests.get(url=url, headers=headers, params=params)"
   ]
  },
  {
   "cell_type": "code",
   "execution_count": 11,
   "metadata": {},
   "outputs": [
    {
     "data": {
      "text/plain": [
       "{'id': '61614801',\n",
       " 'attributes': {'created_at': '2022-07-07T11:09:37-04:00',\n",
       "  'updated_at': '2022-07-07T11:09:37-04:00',\n",
       "  'listed_at': '2022-07-07T11:09:37-04:00',\n",
       "  'mls': 'A1236164',\n",
       "  'street': 'Shawnee Drive SW',\n",
       "  'address': '732 Shawnee Drive SW',\n",
       "  'city': 'Calgary',\n",
       "  'state': 'AB',\n",
       "  'zip': 'T2Y 1V5',\n",
       "  'neighborhood': 'Shawnee Slopes',\n",
       "  'area': None,\n",
       "  'county': 'Calgary',\n",
       "  'price': 649800,\n",
       "  'status': 'Active',\n",
       "  'type': 'Home',\n",
       "  'description': 'Do not miss your chance to view this beautiful custom built Cardel home in an amazing location! This home has tons of curb appeal with its immaculately kept landscaped lawn. Upon entering the home, you are greeted with a huge family room with vaulted ceilings, a large, south facing bay window and skylights above, allowing for lots of natural light. The kitchen boasts upgraded stainless steel appliances, updated counter tops, built-in wine rack and room for a dining table. The many windows in this space overlook the beautiful back yard. The living room has beautiful hardwood floor, a built-in recessed bookcase next to a charming brick surround wood burning fireplace, perfect for cozy winter nights! The patio door leads on to the rear deck.The formal dining area has corner windows and room for a large dining table. There is a spacious separate laundry room and a 2-piece bathroom finishing the main floor. Upstairs, at the end of the long, wooden railed hallway is the den. There is lots of natural light pouring through the skylights above. On this level you will find 3 generous sized bedrooms including the primary suite, with a walk-in closet and STUNNING newly renovated ensuite, which features a free-standing soaker tub, walk-in shower unit, and modern vanity. The additional 4-piece bathroom on the 2nd level has also been updated to include a large, modern vanity. The walk-out basement is ENORMOUS, with 2 dens, a rec room, an office and a 4-piece bathroom!You can relax on the very private rear deck and enjoy the endless views. With stairs leading down to the flawless, landscaped backyard with trees, shrubs, and fencing providing privacy and attractive scenery.This home is just steps away from the tennis courts and playground, with easy access to Fish Creek Park, Downtown and the University of Calgary (via LRT).',\n",
       "  'is_for_rent': False,\n",
       "  'is_for_sale': True,\n",
       "  'bedrooms': 3,\n",
       "  'bathrooms': 3.5,\n",
       "  'half_bathrooms': 1,\n",
       "  'square': 1949,\n",
       "  'lot_square': 4791.6,\n",
       "  'broker': None,\n",
       "  'agent': 'Ctonkisp',\n",
       "  'year': 1986,\n",
       "  'virtual_tour': 'https://youriguide.com/732_shawnee_dr_sw_calgary_ab/',\n",
       "  'images_total': 45,\n",
       "  'garages_total': 2,\n",
       "  'parking_total': None,\n",
       "  'style': None,\n",
       "  'location': {'lon': -114.07893596, 'lat': 50.92487733},\n",
       "  'price_reduced_at': None,\n",
       "  'schools': None,\n",
       "  'city_label': 'Calgary, AB',\n",
       "  'rating': 'High Price',\n",
       "  'isManuallyRated': False,\n",
       "  'ratingInfo': None,\n",
       "  'is_active': True,\n",
       "  'mls_neighborhood': 'Shawnee Slopes',\n",
       "  'tax_amount': 0,\n",
       "  'hoa_dues': 0},\n",
       " 'status': {'data': {'text': 'ACTIVE', 'color': '#3c8dbc'}},\n",
       " 'buyerAgent': {'data': {'id': 4661,\n",
       "   'name': 'Shane Strebchuk',\n",
       "   'title': 'REALTOR®',\n",
       "   'email': 'Shane@AlbertaRE.com',\n",
       "   'phone': '+15878990881',\n",
       "   'picture': '/media/images/WLUVfLl1ltaFRLJZ4w7zVNDBcMrMxGQ1X6oobG51.png',\n",
       "   'animatedPicture': '',\n",
       "   'site': 'shane.albertare.com',\n",
       "   'signature': '<p style=\"margin: 0; line-height: inherit;\">Sincerely,</p><h3 style=\"margin: 0;\"><br></h3><p style=\"margin: 0; line-height: inherit;\"><img alt=\"\" src=\"https://crm.greatagentusa.com/media/images/6Zi03tvOnUhZMjPEXBQaaqrPqQYveP2RMAiQ1VGC.png\" width=\"293\" style=\"display: block; max-width: 100%; width: 293px;\"></p><p style=\"margin: 0; line-height: inherit;\"><br></p><p style=\"margin: 0; line-height: inherit;\"><b>Shane Strebchuk | AlbertaRE Real Estate Team</b></p><h3 style=\"margin: 0;\">Real Broker- <em>Simply Great Service</em></h3><p style=\"margin: 0; line-height: inherit;\"><b>587-899-0881 </b>|&nbsp;<a href=\"https://mailto//Shane@AlbertaRE.com\" target=\"_blank\">Shane@AlbertaRE.co</a><a href=\"mailto://Mike@AlbertaRE.com\" target=\"_blank\">m</a></p><h4 style=\"margin: 0;\">1114 12th Avenue SW Calgary, AB T2R 0J7</h4><h3 style=\"margin: 0;\"><br></h3><h3 style=\"margin: 0;\"><a href=\"https://shane.albertare.com/\" target=\"_blank\">View All Homes For Sale + Sold Prices</a></h3>',\n",
       "   'office': '+15878990881',\n",
       "   'isVisibleOnCS': True,\n",
       "   'reviews': {'data': [{'id': 3671,\n",
       "      'body': \"Shane Strebchuk successfully navigated us through the process of both selling and buying a home at the same time. We were nervous about all the big unknowns, but with his guidance it worked out amazingly. Shane is phenomenal and I will happily recommend him to family and friends. He's your guy!!!\",\n",
       "      'rating': 5,\n",
       "      'url': None,\n",
       "      'previewUrl': None,\n",
       "      'dealInfo': 'Tyler Fennel'},\n",
       "     {'id': 3677,\n",
       "      'body': '\\nShane Strebchuk is by far the best realtor I have ever worked with. From being pro-active, to always keeping the lines of communication open, he is a true professional at selling a home. His friendly and caring nature sets him apart, not only as an amazing realtor, but as a truly wonderful human being. I would recommend Shane to anyone looking to buy or sell property.\\n',\n",
       "      'rating': 5,\n",
       "      'url': None,\n",
       "      'previewUrl': None,\n",
       "      'dealInfo': 'Kevin Clarke'},\n",
       "     {'id': 3675,\n",
       "      'body': 'Shane Strebchuk is the consummate professional, his easy demeanour, responsiveness and attention to detail could not be more appreciated. I would recommend his services to anyone looking for help navigating the rigours of buying a new house.',\n",
       "      'rating': 5,\n",
       "      'url': None,\n",
       "      'previewUrl': None,\n",
       "      'dealInfo': 'Lisa Hui'},\n",
       "     {'id': 3673,\n",
       "      'body': \"Shane Strebchuk was an absolute pleasure to work with throughout the entire process. He was in constant contact, always available for questions, advice, updates, and was personable, honest and genuine throughout. We highly recommend Shane to future clients as he's a fantastic realtor and a great guy too! Give him a call! Thanks again Shane.\",\n",
       "      'rating': 5,\n",
       "      'url': None,\n",
       "      'previewUrl': None,\n",
       "      'dealInfo': 'Spencer Shewchuk'},\n",
       "     {'id': 3669,\n",
       "      'body': 'I have nothing but AMAZING things to say about Shane Strebchuk!!! Shane goes above and beyond for his clients and you can see that from day one! We always felt acknowledged, heard, and most of all important to Shane. Day or night he was there to answer any and all of our questions!! He worked tirelessly to find us our dream home and he did! He surpassed any and all expectations I had and I will forever be grateful and blessed to know a guy like Shane. I will send every single friend and family member to Shane!!! :)\\n',\n",
       "      'rating': 5,\n",
       "      'url': None,\n",
       "      'previewUrl': None,\n",
       "      'dealInfo': 'Andrea Nash'},\n",
       "     {'id': 3667,\n",
       "      'body': \"My wife and me recently moved to Calgary and have started a family and were looking to buy a house. We were very cautious and confused as we've never purchased a house before in Canada. Shane Strebchuk was our realtor and he was very profesional and knowledgeable. He understood our needs and kept showing us listings which were as per our requirements. It made our search much easier. Since we are new we had a lot of questions including a detailed review of the property inspection report, which he very patiently explained to us. In this new city we were looking for a house and we got the house of our dreams and  also a great friend. I wish there were more than 5 stars to give Shane.\",\n",
       "      'rating': 5,\n",
       "      'url': None,\n",
       "      'previewUrl': None,\n",
       "      'dealInfo': 'John Anil'},\n",
       "     {'id': 3665,\n",
       "      'body': \"We bought our first home through Shane Strebchuk! He was great to work with, he always had our best interest in mind, and he it was awesome getting to know him better. He thought of all the little things that made the whole experience that much nicer.\\nHe was easy to contact and he got me in touch with a great team of other people like our lawyer, mortgage broker and house inspector.\\nWe 100% would recommend using Shane, he's the best!)\\n\",\n",
       "      'rating': 5,\n",
       "      'url': None,\n",
       "      'previewUrl': None,\n",
       "      'dealInfo': 'H Stephen'},\n",
       "     {'id': 3663,\n",
       "      'body': 'Our realtor, Shane Strebchuk, was fabulous. He helped us find just the right condominium for the life style we were looking for.  He was very accommodating with times and locations that we wished to see, plus offered many other options for viewing and locations. He was extremely professional, knowledgable and timely in all aspects of the searching and the final purchase. We have and would definitely continue to recommend him for his terrific service!\\n',\n",
       "      'rating': 5,\n",
       "      'url': None,\n",
       "      'previewUrl': None,\n",
       "      'dealInfo': 'Shirley Adams\\n'},\n",
       "     {'id': 3661,\n",
       "      'body': 'An outstanding job by my realtor, Shane Strebchuk, going above and beyond to help me find my dream home. Always very quick when providing information and answering questions, giving invaluable insight, advice and recommendations. Friendly and professional, I never felt like I was just another client. He was very personable and made the experience much less stressful which I really appreciated. I highly recommend Shane!',\n",
       "      'rating': 5,\n",
       "      'url': None,\n",
       "      'previewUrl': None,\n",
       "      'dealInfo': 'Patricia Cambridge'},\n",
       "     {'id': 3659,\n",
       "      'body': \"We had the pleasure of working with Shane on finding our first home to purchase! He was such a great fit for us and no pressure at all on settling for a house by a certain date. The process of viewing homes and then gathering all the necessary documents for purchasing our home was so much easier than we expected with Shane's help, advice and expertise. We would definitely recommend Shane for any of your future home selling/purchasing!\",\n",
       "      'rating': 5,\n",
       "      'url': None,\n",
       "      'previewUrl': None,\n",
       "      'dealInfo': 'Connie Austin'},\n",
       "     {'id': 3657,\n",
       "      'body': 'I worked with Shane Strebchuk in purchasing two condominiums over the past 6 months. He was very responsive, professional and handled everything efficiently. I would recommend Shane to anyone looking for a relaxed and cool headed professional. Very happy with my experience and I will be using Shane for all of my property purchases and sales in the future. Thanks for a wonderful experience!',\n",
       "      'rating': 5,\n",
       "      'url': None,\n",
       "      'previewUrl': None,\n",
       "      'dealInfo': 'D G'},\n",
       "     {'id': 3655,\n",
       "      'body': 'It was a seamless experience working with Shane in finding our first home. He was extremely helpful, knowledgeable and answered out queries promptly. He was also very patient with us in getting us our dream home! We would highly recommend working with Shane!!! Thanks for all you do :)\\n',\n",
       "      'rating': 5,\n",
       "      'url': None,\n",
       "      'previewUrl': None,\n",
       "      'dealInfo': 'Prerna Thakur'},\n",
       "     {'id': 3653,\n",
       "      'body': 'My experience working with Shane Strebchuk was a pleasure from start to finish. He is extremely knowledgeable and was able to answer every question I had efficiently and effectively. I would always receive a quick response and was never left waiting no matter how late it was. Viewings were booked promptly ensuring other buyers did not beat us to them, and he always worked around my schedule. Shane not only is a phenomenal realtor but is also connected to some amazing people and businesses.  Every referral interaction I experienced was top notch and extremely seamless. He was able to negotiate the selling price down substantially despite the  house being competitively priced with lots of interest. It really is an advantage having him in your corner. All business aside Shane is very easy to get along with and takes all the stress out of the experience. He genuinely cares about his customers and it shows through his passion for what he does. In the end we closed on the perfect house with no regrets or issues!',\n",
       "      'rating': 5,\n",
       "      'url': None,\n",
       "      'previewUrl': None,\n",
       "      'dealInfo': 'Fisnik Devolli'},\n",
       "     {'id': 3651,\n",
       "      'body': 'We sold our previous house and purchased our beautiful new home with the help of Shane Strebchuk and we could not be more pleased with the whole process and the results. Our previous home sold in 5 days. I would highly recommend Shane Strebchuk. Shane was always available, very informative and always went the extra mile.',\n",
       "      'rating': 5,\n",
       "      'url': None,\n",
       "      'previewUrl': None,\n",
       "      'dealInfo': 'Pamela Crowder'}]}}},\n",
       " 'meta': {'data': {'is_favourite': False,\n",
       "   'is_favorited_by': [],\n",
       "   'url': '/homedetails/61614801-732-shawnee-drive-sw-calgary-ab-t2y-1v5',\n",
       "   'priceTrend': None}},\n",
       " 'legalDisclaimer': {'data': {'legalDisclaimer': {'properties': 'Data is supplied by Pillar 9™ MLS® System. Pillar 9™ is the owner of the copyright in its MLS® System. Data is deemed reliable but is not guaranteed accurate by Pillar 9™. The trademarks MLS®, Multiple Listing Service® and the associated logos are owned by The Canadian Real Estate Association (CREA) and identify the quality of services provided by real estate professionals who are members of CREA. Used under license.\\nLast updated: 2022-07-07 11:58:48 ',\n",
       "    'property': 'Data is supplied by Pillar 9™ MLS® System. Pillar 9™ is the owner of the copyright in its MLS® System. Data is deemed reliable but is not guaranteed accurate by Pillar 9™. The trademarks MLS®, Multiple Listing Service® and the associated logos are owned by The Canadian Real Estate Association (CREA) and identify the quality of services provided by real estate professionals who are members of CREA. Used under license.\\nLast updated: 2022-07-07 11:58:48 '}}},\n",
       " 'source': {'data': {'type': 'RETS',\n",
       "   'name': 'CREBTester',\n",
       "   'title': 'CREB ',\n",
       "   'displayMLSInfo': False,\n",
       "   'legalDisclaimer': None,\n",
       "   'hideStatuses': ['Sold', 'OM', 'Pending']}}}"
      ]
     },
     "execution_count": 11,
     "metadata": {},
     "output_type": "execute_result"
    }
   ],
   "source": [
    "(resp.json()[\"data\"][0])"
   ]
  },
  {
   "cell_type": "code",
   "execution_count": 17,
   "metadata": {},
   "outputs": [
    {
     "data": {
      "text/plain": [
       "{'total': 9511,\n",
       " 'count': 100,\n",
       " 'per_page': 100,\n",
       " 'current_page': 1,\n",
       " 'total_pages': 96,\n",
       " 'links': {'next': 'https://albertare.com/api/properties?limit=1000&page=2'}}"
      ]
     },
     "execution_count": 17,
     "metadata": {},
     "output_type": "execute_result"
    }
   ],
   "source": [
    "resp.json()['meta']['pagination']['current_page'] \n",
    "\n",
    "resp.json()['meta']['pagination']['total_pages']"
   ]
  },
  {
   "cell_type": "code",
   "execution_count": null,
   "metadata": {},
   "outputs": [],
   "source": []
  }
 ],
 "metadata": {
  "kernelspec": {
   "display_name": "Python 3.9.11 ('source-alberta-re-46V4qSue-python')",
   "language": "python",
   "name": "python3"
  },
  "language_info": {
   "codemirror_mode": {
    "name": "ipython",
    "version": 3
   },
   "file_extension": ".py",
   "mimetype": "text/x-python",
   "name": "python",
   "nbconvert_exporter": "python",
   "pygments_lexer": "ipython3",
   "version": "3.9.11"
  },
  "orig_nbformat": 4,
  "vscode": {
   "interpreter": {
    "hash": "ee717da03a9c28436ad4bea16c3d9f068a1fe15bd22ec6df441645f5ef92f3ab"
   }
  }
 },
 "nbformat": 4,
 "nbformat_minor": 2
}
